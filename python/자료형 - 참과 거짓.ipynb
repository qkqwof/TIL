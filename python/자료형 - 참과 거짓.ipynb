{
 "cells": [
  {
   "cell_type": "markdown",
   "metadata": {},
   "source": [
    "## 1. 자료형의 참과 거짓 구분 기준\n",
    "<br>\n",
    "\n",
    "- 기본적으로 자료형이 비어있거나 숫자형의 경우 0이면 거짓(False)\n",
    "\n",
    "<br>\n",
    "\n",
    "|자료형|값|True/False|\n",
    "|------|-----|-------|\n",
    "|문자열|\"JYP\"|True|\n",
    "|\"|\"\"|False|\n",
    "|리스트|[1,2,3]|True|\n",
    "|\"|[]|False|\n",
    "|숫자형|0이 아닌 숫자|True|\n",
    "|\"|0|False|\n",
    "|튜플|()|False|\n",
    "|딕셔너리|{}|False|\n",
    "|-|None|False|"
   ]
  },
  {
   "cell_type": "markdown",
   "metadata": {},
   "source": [
    "## 2. 제어문을 통한 확인"
   ]
  },
  {
   "cell_type": "markdown",
   "metadata": {},
   "source": [
    "### 2-1. while문"
   ]
  },
  {
   "cell_type": "code",
   "execution_count": 1,
   "metadata": {},
   "outputs": [
    {
     "name": "stdout",
     "output_type": "stream",
     "text": [
      "[2, 3, 4]\n",
      "[3, 4]\n",
      "[4]\n",
      "[]\n"
     ]
    }
   ],
   "source": [
    "a = [1,2,3,4]\n",
    "\n",
    "while a:\n",
    "    a.remove(a[0])\n",
    "    print(a)"
   ]
  },
  {
   "cell_type": "markdown",
   "metadata": {},
   "source": [
    "- a가 참일 때 계속해서 반복이 되는 while 구문\n",
    "- 모든 요소가 없어지면 False로 반영"
   ]
  },
  {
   "cell_type": "markdown",
   "metadata": {},
   "source": [
    "### 2-2. if문"
   ]
  },
  {
   "cell_type": "code",
   "execution_count": 2,
   "metadata": {},
   "outputs": [
    {
     "name": "stdout",
     "output_type": "stream",
     "text": [
      "False\n"
     ]
    }
   ],
   "source": [
    "if []:\n",
    "    print(\"True\")\n",
    "else:\n",
    "    print(\"False\")"
   ]
  },
  {
   "cell_type": "markdown",
   "metadata": {},
   "source": [
    "### 2-3. 포함 여부(in)"
   ]
  },
  {
   "cell_type": "code",
   "execution_count": 3,
   "metadata": {},
   "outputs": [
    {
     "name": "stdout",
     "output_type": "stream",
     "text": [
      "False\n",
      "True\n"
     ]
    }
   ],
   "source": [
    "a = [1,2,3]\n",
    "print(0 in a)\n",
    "print(1 in a)"
   ]
  },
  {
   "cell_type": "markdown",
   "metadata": {},
   "source": [
    "### 2-4. 같은 객체인지 확인(is)"
   ]
  },
  {
   "cell_type": "code",
   "execution_count": 4,
   "metadata": {},
   "outputs": [
    {
     "data": {
      "text/plain": [
       "True"
      ]
     },
     "execution_count": 4,
     "metadata": {},
     "output_type": "execute_result"
    }
   ],
   "source": [
    "a = 1\n",
    "b = 1\n",
    "a is b"
   ]
  },
  {
   "cell_type": "markdown",
   "metadata": {},
   "source": [
    "## 3. 참과 거짓의 판단"
   ]
  },
  {
   "cell_type": "markdown",
   "metadata": {},
   "source": [
    "### 3-1. 비교연산자\n",
    "\n",
    "<br>\n",
    "\n",
    "|비교연산자|설명|\n",
    "|----------|----|\n",
    "|x < y|x가 y보다 작다|\n",
    "|x > y|x가 y보다 크다|\n",
    "|x == y|x와 y가 같다|\n",
    "|x != y|x와 y가 같다|\n",
    "|x >= y|x가 y보다 크거나 같다|\n",
    "|x <= y|x가 y보다 작거나 같다|"
   ]
  },
  {
   "cell_type": "markdown",
   "metadata": {},
   "source": [
    "### 3-2. and, or, not 연산자\n",
    "\n",
    "<br>\n",
    "\n",
    "|연산자|설명|\n",
    "|------|----|\n",
    "|x or y|x와 y 둘 중에 하나만 참이면 참|\n",
    "|x and y|x와 y가 모두 참이어야 참|\n",
    "|not x|x가 거짓이면 참|\n"
   ]
  },
  {
   "cell_type": "code",
   "execution_count": 6,
   "metadata": {},
   "outputs": [
    {
     "name": "stdout",
     "output_type": "stream",
     "text": [
      "둘 다 참이 아님\n"
     ]
    }
   ],
   "source": [
    "x = [1,2,3]\n",
    "y = []\n",
    "\n",
    "if x and y:\n",
    "    print(\"둘 중 하나는 참\")\n",
    "else:\n",
    "    print(\"둘 다 참이 아님\")"
   ]
  },
  {
   "cell_type": "markdown",
   "metadata": {},
   "source": [
    "### 3-3. x in s, x not in s 연산자\n",
    "\n",
    "<br>\n",
    "\n",
    "|in|not in|\n",
    "|--|------|\n",
    "|x in 리스트|x not in 리스트|\n",
    "|x in 튜플|x not in 튜플|\n",
    "|x in 문자열|x not in 문자열|"
   ]
  },
  {
   "cell_type": "code",
   "execution_count": 7,
   "metadata": {},
   "outputs": [
    {
     "data": {
      "text/plain": [
       "True"
      ]
     },
     "execution_count": 7,
     "metadata": {},
     "output_type": "execute_result"
    }
   ],
   "source": [
    "8 in [8,9,10]"
   ]
  },
  {
   "cell_type": "code",
   "execution_count": 8,
   "metadata": {},
   "outputs": [
    {
     "data": {
      "text/plain": [
       "False"
      ]
     },
     "execution_count": 8,
     "metadata": {},
     "output_type": "execute_result"
    }
   ],
   "source": [
    "1 not in (1,2,3,4)"
   ]
  },
  {
   "cell_type": "code",
   "execution_count": 9,
   "metadata": {},
   "outputs": [
    {
     "data": {
      "text/plain": [
       "True"
      ]
     },
     "execution_count": 9,
     "metadata": {},
     "output_type": "execute_result"
    }
   ],
   "source": [
    "'y' in \"jyp\""
   ]
  },
  {
   "cell_type": "code",
   "execution_count": null,
   "metadata": {},
   "outputs": [],
   "source": []
  }
 ],
 "metadata": {
  "kernelspec": {
   "display_name": "Python 3",
   "language": "python",
   "name": "python3"
  },
  "language_info": {
   "codemirror_mode": {
    "name": "ipython",
    "version": 3
   },
   "file_extension": ".py",
   "mimetype": "text/x-python",
   "name": "python",
   "nbconvert_exporter": "python",
   "pygments_lexer": "ipython3",
   "version": "3.8.5"
  }
 },
 "nbformat": 4,
 "nbformat_minor": 4
}
