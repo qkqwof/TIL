{
 "cells": [
  {
   "cell_type": "markdown",
   "metadata": {},
   "source": [
    "## 1. while문의 개념\n",
    "- while문은 조건문이 참인 동안 while 안에 코드 내용을 반복적으로 수행하고 거짓이 되면 빠져나옴"
   ]
  },
  {
   "cell_type": "markdown",
   "metadata": {},
   "source": [
    "## 2. while문 직접 만들기\n",
    "\n",
    "<br>\n",
    "\n",
    "#### 예시1 : 로딩 완료\n",
    "---\n",
    "\n",
    "<br>\n",
    "\n",
    "> 100% 로딩이 완료되면 실행되는 문구 만들기"
   ]
  },
  {
   "cell_type": "code",
   "execution_count": 3,
   "metadata": {},
   "outputs": [
    {
     "name": "stdout",
     "output_type": "stream",
     "text": [
      "현재 10% 로딩 중입니다.\n",
      "현재 20% 로딩 중입니다.\n",
      "현재 30% 로딩 중입니다.\n",
      "현재 40% 로딩 중입니다.\n",
      "현재 50% 로딩 중입니다.\n",
      "현재 60% 로딩 중입니다.\n",
      "현재 70% 로딩 중입니다.\n",
      "현재 80% 로딩 중입니다.\n",
      "현재 90% 로딩 중입니다.\n",
      "현재 100% 로딩 중입니다.\n",
      "로딩이 완료 되었습니다.\n"
     ]
    }
   ],
   "source": [
    "loading = 0\n",
    "while loading < 100:\n",
    "    loading += 10\n",
    "    print(\"현재 %s%% 로딩 중입니다.\" % loading)\n",
    "    if loading == 100:\n",
    "        print(\"로딩이 완료 되었습니다.\")"
   ]
  },
  {
   "cell_type": "markdown",
   "metadata": {},
   "source": [
    "- loading 변수는 while문을 한번 돌 때마다 10씩 추가\n",
    "- 100이 되는 시점에 if문의 명령 'print(\"로딩이 완료 되었습니다.\") 수행함\n",
    "- 그 이후 while 조건문은 거짓이 되므로 while문을 빠저나옴"
   ]
  },
  {
   "cell_type": "markdown",
   "metadata": {},
   "source": [
    "#### 예시2 : 사용자 입력 구조 만들기"
   ]
  },
  {
   "cell_type": "code",
   "execution_count": 4,
   "metadata": {},
   "outputs": [],
   "source": [
    "prompt = \"\"\"\n",
    "1. data\n",
    "2. science\n",
    "3. python\n",
    "4. Exit\n",
    "\"\"\""
   ]
  },
  {
   "cell_type": "markdown",
   "metadata": {},
   "source": [
    "- 사용자가 4를 입력하면 while문을 빠져나오도록 하기"
   ]
  },
  {
   "cell_type": "code",
   "execution_count": 6,
   "metadata": {},
   "outputs": [
    {
     "name": "stdout",
     "output_type": "stream",
     "text": [
      "\n",
      "1. data\n",
      "2. science\n",
      "3. python\n",
      "4. Exit\n",
      "\n",
      "1\n",
      "\n",
      "1. data\n",
      "2. science\n",
      "3. python\n",
      "4. Exit\n",
      "\n",
      "2\n",
      "\n",
      "1. data\n",
      "2. science\n",
      "3. python\n",
      "4. Exit\n",
      "\n",
      "4\n"
     ]
    }
   ],
   "source": [
    "number = 0\n",
    "while number != 4:\n",
    "    print(prompt)\n",
    "    number = int(input())"
   ]
  },
  {
   "cell_type": "markdown",
   "metadata": {},
   "source": [
    "## while문 강제로 빠져나가기(break)\n",
    "\n",
    "<br>\n",
    "\n",
    "> 커피 판매 자판기에서, 커피가 매진되면 판매를 종료해라"
   ]
  },
  {
   "cell_type": "code",
   "execution_count": 8,
   "metadata": {},
   "outputs": [
    {
     "name": "stdout",
     "output_type": "stream",
     "text": [
      "자판기에 돈을 넣어서 커피를 줌\n",
      "남은 커피는 9개 입니다.\n",
      "자판기에 돈을 넣어서 커피를 줌\n",
      "남은 커피는 8개 입니다.\n",
      "자판기에 돈을 넣어서 커피를 줌\n",
      "남은 커피는 7개 입니다.\n",
      "자판기에 돈을 넣어서 커피를 줌\n",
      "남은 커피는 6개 입니다.\n",
      "자판기에 돈을 넣어서 커피를 줌\n",
      "남은 커피는 5개 입니다.\n",
      "자판기에 돈을 넣어서 커피를 줌\n",
      "남은 커피는 4개 입니다.\n",
      "자판기에 돈을 넣어서 커피를 줌\n",
      "남은 커피는 3개 입니다.\n",
      "자판기에 돈을 넣어서 커피를 줌\n",
      "남은 커피는 2개 입니다.\n",
      "자판기에 돈을 넣어서 커피를 줌\n",
      "남은 커피는 1개 입니다.\n",
      "자판기에 돈을 넣어서 커피를 줌\n",
      "남은 커피는 0개 입니다.\n",
      "판매가 종료됩니다.\n"
     ]
    }
   ],
   "source": [
    "coffee = 10\n",
    "money = 300\n",
    "\n",
    "while money:\n",
    "    print(\"자판기에 돈을 넣어서 커피를 줌\")\n",
    "    coffee = coffee - 1\n",
    "    print(\"남은 커피는 %s개 입니다.\" % coffee)\n",
    "    if not coffee:\n",
    "        print(\"판매가 종료됩니다.\")\n",
    "        break"
   ]
  },
  {
   "cell_type": "markdown",
   "metadata": {},
   "source": [
    "- 'while money:'는 항상 참이게 되어 무한루프를 돌게 됨\n",
    "- 따라서 coffee = 0일 때, 거짓이 되면 if문 수행하게 되고, break로 while문을 빠져나옴"
   ]
  },
  {
   "cell_type": "markdown",
   "metadata": {},
   "source": [
    "> 자판기의 더 복잡한 구조"
   ]
  },
  {
   "cell_type": "code",
   "execution_count": 10,
   "metadata": {},
   "outputs": [
    {
     "name": "stdout",
     "output_type": "stream",
     "text": [
      "돈을 넣어주세요: 100\n",
      "돈을 더 넣어주세요.\n",
      "남은 커피의 양은 10 입니다.\n",
      "돈을 넣어주세요: 1000\n",
      "거스름돈 700를 주고 커피를 줍니다.\n",
      "돈을 넣어주세요: 200\n",
      "돈을 더 넣어주세요.\n",
      "남은 커피의 양은 9 입니다.\n",
      "돈을 넣어주세요: 3000\n",
      "거스름돈 2700를 주고 커피를 줍니다.\n",
      "돈을 넣어주세요: 400\n",
      "거스름돈 100를 주고 커피를 줍니다.\n",
      "돈을 넣어주세요: 60\n",
      "돈을 더 넣어주세요.\n",
      "남은 커피의 양은 7 입니다.\n",
      "돈을 넣어주세요: 70\n",
      "돈을 더 넣어주세요.\n",
      "남은 커피의 양은 7 입니다.\n",
      "돈을 넣어주세요: 1000\n",
      "거스름돈 700를 주고 커피를 줍니다.\n",
      "돈을 넣어주세요: 4000\n",
      "거스름돈 3700를 주고 커피를 줍니다.\n",
      "돈을 넣어주세요: 60000\n",
      "거스름돈 59700를 주고 커피를 줍니다.\n",
      "돈을 넣어주세요: 30\n",
      "돈을 더 넣어주세요.\n",
      "남은 커피의 양은 4 입니다.\n",
      "돈을 넣어주세요: 7000\n",
      "거스름돈 6700를 주고 커피를 줍니다.\n",
      "돈을 넣어주세요: 600\n",
      "거스름돈 300를 주고 커피를 줍니다.\n",
      "돈을 넣어주세요: 700\n",
      "거스름돈 400를 주고 커피를 줍니다.\n",
      "돈을 넣어주세요: 700\n",
      "거스름돈 400를 주고 커피를 줍니다.\n",
      "커피는 매진입니다.\n"
     ]
    }
   ],
   "source": [
    "coffee = 10\n",
    "while True:\n",
    "    money = int(input(\"돈을 넣어주세요: \"))\n",
    "    if money == 300:\n",
    "        print(\"커피 나왔습니다.\")\n",
    "        coffee = coffee - 1\n",
    "    elif money > 300:\n",
    "        print(\"거스름돈 %s를 주고 커피를 줍니다.\" % (money - 300))\n",
    "        coffee = coffee - 1\n",
    "    else:\n",
    "        print(\"돈을 더 넣어주세요.\")\n",
    "        print(\"남은 커피의 양은 %s 입니다.\" % coffee)\n",
    "    if not coffee:\n",
    "        print(\"커피는 매진입니다.\")\n",
    "        break"
   ]
  },
  {
   "cell_type": "markdown",
   "metadata": {},
   "source": [
    "## 4. 조건에 맞지 않는 경우 맨 처음으로 돌아가기(continue)\n",
    "- continue는 조건문이 참이면 다음 문장을 수행하지 않고, while문의 맨 처음으로 돌아감"
   ]
  },
  {
   "cell_type": "markdown",
   "metadata": {},
   "source": [
    "> 예시 : 1부터 10까지의 숫자 중 홀수(1,3,5,7,9)만을 출력"
   ]
  },
  {
   "cell_type": "code",
   "execution_count": 12,
   "metadata": {},
   "outputs": [
    {
     "name": "stdout",
     "output_type": "stream",
     "text": [
      "1\n",
      "3\n",
      "5\n",
      "7\n",
      "9\n"
     ]
    }
   ],
   "source": [
    "a = 0\n",
    "while a < 10:\n",
    "    a += 1\n",
    "    if a % 2 == 0:\n",
    "        continue\n",
    "    print(a)"
   ]
  },
  {
   "cell_type": "code",
   "execution_count": null,
   "metadata": {},
   "outputs": [],
   "source": []
  }
 ],
 "metadata": {
  "kernelspec": {
   "display_name": "Python 3",
   "language": "python",
   "name": "python3"
  },
  "language_info": {
   "codemirror_mode": {
    "name": "ipython",
    "version": 3
   },
   "file_extension": ".py",
   "mimetype": "text/x-python",
   "name": "python",
   "nbconvert_exporter": "python",
   "pygments_lexer": "ipython3",
   "version": "3.8.5"
  }
 },
 "nbformat": 4,
 "nbformat_minor": 4
}
