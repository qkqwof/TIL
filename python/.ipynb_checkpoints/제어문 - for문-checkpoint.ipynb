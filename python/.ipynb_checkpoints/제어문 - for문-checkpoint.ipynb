{
 "cells": [
  {
   "cell_type": "markdown",
   "metadata": {},
   "source": [
    "## 1. for문 예제"
   ]
  },
  {
   "cell_type": "markdown",
   "metadata": {},
   "source": [
    "- 전형적인 for문"
   ]
  },
  {
   "cell_type": "code",
   "execution_count": 1,
   "metadata": {},
   "outputs": [
    {
     "name": "stdout",
     "output_type": "stream",
     "text": [
      "data\n",
      "science\n",
      "python\n"
     ]
    }
   ],
   "source": [
    "my_list = ['data','science','python']\n",
    "\n",
    "for i in my_list:\n",
    "    print(i)"
   ]
  },
  {
   "cell_type": "markdown",
   "metadata": {},
   "source": [
    "다양한 for문의 사용"
   ]
  },
  {
   "cell_type": "markdown",
   "metadata": {},
   "source": [
    "- 튜플"
   ]
  },
  {
   "cell_type": "code",
   "execution_count": 2,
   "metadata": {},
   "outputs": [
    {
     "name": "stdout",
     "output_type": "stream",
     "text": [
      "1 와 2\n",
      "3 와 4\n",
      "5 와 6\n"
     ]
    }
   ],
   "source": [
    "my_tuple = [(1,2),(3,4),(5,6)]\n",
    "for (i,j) in my_tuple:\n",
    "    print(str(i) + \" 와 \" + str(j))"
   ]
  },
  {
   "cell_type": "markdown",
   "metadata": {},
   "source": [
    "- 딕셔너리"
   ]
  },
  {
   "cell_type": "code",
   "execution_count": 3,
   "metadata": {},
   "outputs": [
    {
     "name": "stdout",
     "output_type": "stream",
     "text": [
      "key는 a 이고 value는 1이다.\n",
      "key는 b 이고 value는 3이다.\n",
      "key는 c 이고 value는 5이다.\n"
     ]
    }
   ],
   "source": [
    "my_dict = {'a':1,'b':3,'c':5}\n",
    "for (i,j) in my_dict.items():\n",
    "    print(\"key는 %s 이고 value는 %s이다.\" % (i,j))"
   ]
  },
  {
   "cell_type": "markdown",
   "metadata": {},
   "source": [
    "- 예시"
   ]
  },
  {
   "cell_type": "markdown",
   "metadata": {},
   "source": [
    "> 총 5명의 학생 중, 60점이 넘으면 합격이고 아니면 불합격. 합격인지 불합격인지 결과 출력"
   ]
  },
  {
   "cell_type": "code",
   "execution_count": 5,
   "metadata": {},
   "outputs": [
    {
     "name": "stdout",
     "output_type": "stream",
     "text": [
      "1번 학생 : 합격\n",
      "2번 학생 : 합격\n",
      "3번 학생 : 불합격\n",
      "4번 학생 : 합격\n",
      "5번 학생 : 불합격\n"
     ]
    }
   ],
   "source": [
    "score = [85,75,25,70,60]\n",
    "\n",
    "for i in score:\n",
    "    if i > 60:\n",
    "        print(\"%s번 학생 : \" % (score.index(i)+1) + \"합격\")\n",
    "    else:\n",
    "        print(\"%s번 학생 : \" % (score.index(i)+1) + \"불합격\")"
   ]
  },
  {
   "cell_type": "markdown",
   "metadata": {},
   "source": [
    "## 2. for문과 continue\n",
    "- while문과 마찬가지로 반복 수행 도중 continue 만나면 다시 처음으로 돌아감"
   ]
  },
  {
   "cell_type": "code",
   "execution_count": 6,
   "metadata": {},
   "outputs": [
    {
     "name": "stdout",
     "output_type": "stream",
     "text": [
      "1번 학생 : 합격입니다.\n",
      "4번 학생 : 합격입니다.\n",
      "5번 학생 : 합격입니다.\n"
     ]
    }
   ],
   "source": [
    "score = [85,25,55,70,65]\n",
    "for i in score:\n",
    "    if i < 60: \n",
    "        continue\n",
    "    print(\"%s번 학생 : \" % (score.index(i)+1) + \"합격입니다.\")"
   ]
  },
  {
   "cell_type": "markdown",
   "metadata": {},
   "source": [
    "## 3. for문과 range함수"
   ]
  },
  {
   "cell_type": "code",
   "execution_count": 7,
   "metadata": {},
   "outputs": [
    {
     "data": {
      "text/plain": [
       "range(0, 10)"
      ]
     },
     "execution_count": 7,
     "metadata": {},
     "output_type": "execute_result"
    }
   ],
   "source": [
    "a = range(10)\n",
    "a"
   ]
  },
  {
   "cell_type": "markdown",
   "metadata": {},
   "source": [
    "- range(x)는 0부터 x 미만의 숫자를 포함하는 range 객체를 생성\n",
    "- range(시작 숫자, 끝 숫자)로 만들 수도 있고, 끝 숫자는 포함되지 않음"
   ]
  },
  {
   "cell_type": "code",
   "execution_count": 8,
   "metadata": {},
   "outputs": [
    {
     "name": "stdout",
     "output_type": "stream",
     "text": [
      "0\n",
      "1\n",
      "2\n",
      "3\n",
      "4\n",
      "5\n",
      "6\n",
      "7\n",
      "8\n",
      "9\n"
     ]
    }
   ],
   "source": [
    "for i in range(10):\n",
    "    print(i)"
   ]
  },
  {
   "cell_type": "code",
   "execution_count": 9,
   "metadata": {},
   "outputs": [
    {
     "name": "stdout",
     "output_type": "stream",
     "text": [
      "55\n"
     ]
    }
   ],
   "source": [
    "# 1부터 10까지 더해주는 for문\n",
    "sum = 0\n",
    "for i in range(1,11):\n",
    "    sum += i\n",
    "print(sum)"
   ]
  },
  {
   "cell_type": "code",
   "execution_count": 13,
   "metadata": {},
   "outputs": [
    {
     "name": "stdout",
     "output_type": "stream",
     "text": [
      "1번째 학생 : 합격 입니다.\n",
      "4번째 학생 : 합격 입니다.\n",
      "5번째 학생 : 합격 입니다.\n"
     ]
    }
   ],
   "source": [
    "score = [85,25,55,70,65]\n",
    "\n",
    "for i in range(len(score)):\n",
    "    if score[i] < 60:\n",
    "        continue\n",
    "    print(\"%s번째 학생 : \" % (i+1) + \"합격 입니다.\")"
   ]
  },
  {
   "cell_type": "markdown",
   "metadata": {},
   "source": [
    "- 구구단"
   ]
  },
  {
   "cell_type": "code",
   "execution_count": 21,
   "metadata": {},
   "outputs": [
    {
     "name": "stdout",
     "output_type": "stream",
     "text": [
      "2 * 1 = 2 / 2 * 2 = 4 / 2 * 3 = 6 / 2 * 4 = 8 / 2 * 5 = 10 / 2 * 6 = 12 / 2 * 7 = 14 / 2 * 8 = 16 / 2 * 9 = 18 / \n",
      "3 * 1 = 3 / 3 * 2 = 6 / 3 * 3 = 9 / 3 * 4 = 12 / 3 * 5 = 15 / 3 * 6 = 18 / 3 * 7 = 21 / 3 * 8 = 24 / 3 * 9 = 27 / \n",
      "4 * 1 = 4 / 4 * 2 = 8 / 4 * 3 = 12 / 4 * 4 = 16 / 4 * 5 = 20 / 4 * 6 = 24 / 4 * 7 = 28 / 4 * 8 = 32 / 4 * 9 = 36 / \n",
      "5 * 1 = 5 / 5 * 2 = 10 / 5 * 3 = 15 / 5 * 4 = 20 / 5 * 5 = 25 / 5 * 6 = 30 / 5 * 7 = 35 / 5 * 8 = 40 / 5 * 9 = 45 / \n",
      "6 * 1 = 6 / 6 * 2 = 12 / 6 * 3 = 18 / 6 * 4 = 24 / 6 * 5 = 30 / 6 * 6 = 36 / 6 * 7 = 42 / 6 * 8 = 48 / 6 * 9 = 54 / \n",
      "7 * 1 = 7 / 7 * 2 = 14 / 7 * 3 = 21 / 7 * 4 = 28 / 7 * 5 = 35 / 7 * 6 = 42 / 7 * 7 = 49 / 7 * 8 = 56 / 7 * 9 = 63 / \n",
      "8 * 1 = 8 / 8 * 2 = 16 / 8 * 3 = 24 / 8 * 4 = 32 / 8 * 5 = 40 / 8 * 6 = 48 / 8 * 7 = 56 / 8 * 8 = 64 / 8 * 9 = 72 / \n",
      "9 * 1 = 9 / 9 * 2 = 18 / 9 * 3 = 27 / 9 * 4 = 36 / 9 * 5 = 45 / 9 * 6 = 54 / 9 * 7 = 63 / 9 * 8 = 72 / 9 * 9 = 81 / \n"
     ]
    }
   ],
   "source": [
    "for i in range(2,10):\n",
    "    for j in range(1,10):\n",
    "        print(\"%s * %s\" %(i,j) + \" =\", i*j, end = \" / \")\n",
    "    print(\"\")"
   ]
  },
  {
   "cell_type": "markdown",
   "metadata": {},
   "source": [
    "## 4. for문과 List Comprehension"
   ]
  },
  {
   "cell_type": "markdown",
   "metadata": {},
   "source": [
    "- append()함수를 이용한 방법"
   ]
  },
  {
   "cell_type": "code",
   "execution_count": 22,
   "metadata": {},
   "outputs": [
    {
     "name": "stdout",
     "output_type": "stream",
     "text": [
      "[3, 6, 9, 12]\n"
     ]
    }
   ],
   "source": [
    "a = [1,2,3,4]\n",
    "result = []\n",
    "\n",
    "for i in a:\n",
    "    result.append(i*3)\n",
    "print(result)"
   ]
  },
  {
   "cell_type": "markdown",
   "metadata": {},
   "source": [
    "- List Comprehension 사용"
   ]
  },
  {
   "cell_type": "code",
   "execution_count": 24,
   "metadata": {},
   "outputs": [
    {
     "data": {
      "text/plain": [
       "[3, 6, 9, 12]"
      ]
     },
     "execution_count": 24,
     "metadata": {},
     "output_type": "execute_result"
    }
   ],
   "source": [
    "a = [1,2,3,4]\n",
    "result = [i * 3 for i in a]\n",
    "result"
   ]
  },
  {
   "cell_type": "markdown",
   "metadata": {},
   "source": [
    "- List Comprehension 사용 + if문 추가"
   ]
  },
  {
   "cell_type": "code",
   "execution_count": 25,
   "metadata": {},
   "outputs": [
    {
     "data": {
      "text/plain": [
       "[6, 12]"
      ]
     },
     "execution_count": 25,
     "metadata": {},
     "output_type": "execute_result"
    }
   ],
   "source": [
    "a = [1,2,3,4]\n",
    "result = [i*3 for i in a if i % 2 == 0]\n",
    "result"
   ]
  },
  {
   "cell_type": "markdown",
   "metadata": {},
   "source": [
    "- 구구단 List Comprehension으로 구현"
   ]
  },
  {
   "cell_type": "code",
   "execution_count": 27,
   "metadata": {},
   "outputs": [
    {
     "data": {
      "text/plain": [
       "[2,\n",
       " 4,\n",
       " 6,\n",
       " 8,\n",
       " 10,\n",
       " 12,\n",
       " 14,\n",
       " 16,\n",
       " 18,\n",
       " 3,\n",
       " 6,\n",
       " 9,\n",
       " 12,\n",
       " 15,\n",
       " 18,\n",
       " 21,\n",
       " 24,\n",
       " 27,\n",
       " 4,\n",
       " 8,\n",
       " 12,\n",
       " 16,\n",
       " 20,\n",
       " 24,\n",
       " 28,\n",
       " 32,\n",
       " 36,\n",
       " 5,\n",
       " 10,\n",
       " 15,\n",
       " 20,\n",
       " 25,\n",
       " 30,\n",
       " 35,\n",
       " 40,\n",
       " 45,\n",
       " 6,\n",
       " 12,\n",
       " 18,\n",
       " 24,\n",
       " 30,\n",
       " 36,\n",
       " 42,\n",
       " 48,\n",
       " 54,\n",
       " 7,\n",
       " 14,\n",
       " 21,\n",
       " 28,\n",
       " 35,\n",
       " 42,\n",
       " 49,\n",
       " 56,\n",
       " 63,\n",
       " 8,\n",
       " 16,\n",
       " 24,\n",
       " 32,\n",
       " 40,\n",
       " 48,\n",
       " 56,\n",
       " 64,\n",
       " 72,\n",
       " 9,\n",
       " 18,\n",
       " 27,\n",
       " 36,\n",
       " 45,\n",
       " 54,\n",
       " 63,\n",
       " 72,\n",
       " 81]"
      ]
     },
     "execution_count": 27,
     "metadata": {},
     "output_type": "execute_result"
    }
   ],
   "source": [
    "result = [i * j for i in range(2,10) for j in range(1,10)]\n",
    "result"
   ]
  },
  {
   "cell_type": "code",
   "execution_count": null,
   "metadata": {},
   "outputs": [],
   "source": []
  }
 ],
 "metadata": {
  "kernelspec": {
   "display_name": "Python 3",
   "language": "python",
   "name": "python3"
  },
  "language_info": {
   "codemirror_mode": {
    "name": "ipython",
    "version": 3
   },
   "file_extension": ".py",
   "mimetype": "text/x-python",
   "name": "python",
   "nbconvert_exporter": "python",
   "pygments_lexer": "ipython3",
   "version": "3.8.5"
  }
 },
 "nbformat": 4,
 "nbformat_minor": 4
}
